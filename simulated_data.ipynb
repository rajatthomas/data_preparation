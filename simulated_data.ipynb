{
 "cells": [
  {
   "cell_type": "code",
   "execution_count": 1,
   "metadata": {},
   "outputs": [],
   "source": [
    "import numpy as np\n",
    "import scipy as sp\n",
    "import pandas as pd\n",
    "from pandas import Series\n",
    "import os \n",
    "from itertools import product\n",
    "\n",
    "import warnings\n",
    "\n",
    "#from modshogun import *\n",
    "\n",
    "from sklearn import linear_model, decomposition\n",
    "from sklearn.svm import SVC\n",
    "from sklearn.ensemble import RandomForestClassifier\n",
    "from sklearn.model_selection import GridSearchCV, GroupKFold, LeaveOneGroupOut\n",
    "from sklearn.externals.joblib import Parallel, delayed\n",
    "from sklearn.preprocessing import RobustScaler, LabelEncoder, StandardScaler, Imputer, MinMaxScaler\n",
    "from sklearn.pipeline import Pipeline\n",
    "\n",
    "from CustomCVs import KFoldMixedSizes, StratifiedKFoldMixedSizes, StratifiedKFoldByGroups\n",
    "#from evaluation_classifier import Evaluater\n",
    "\n",
    "from time import time\n",
    "from IPython.display import clear_output\n",
    "\n",
    "#from fancyimpute import BiScaler, KNN, NuclearNormMinimization, SoftImpute, IterativeSVD #, MICE\n",
    "\n",
    "from six.moves import cPickle as pickle\n",
    "\n",
    "import matplotlib.pyplot as plt"
   ]
  },
  {
   "cell_type": "code",
   "execution_count": null,
   "metadata": {},
   "outputs": [],
   "source": [
    "# def create_rank_k_dataset(\n",
    "#         n_rows=5,\n",
    "#         n_cols=5,\n",
    "#         k=3,\n",
    "#         fraction_missing=0.1,\n",
    "#         symmetric=False,\n",
    "#         random_seed=0):\n",
    "#     np.random.seed(random_seed)\n",
    "#     x = np.random.randn(n_rows, k)\n",
    "#     y = np.random.randn(k, n_cols)\n",
    "\n",
    "#     XY = np.dot(x, y)\n",
    "\n",
    "#     if symmetric:\n",
    "#         assert n_rows == n_cols\n",
    "#         XY = 0.5 * XY + 0.5 * XY.T\n",
    "\n",
    "#     missing_raw_values = np.random.uniform(0, 1, (n_rows, n_cols))\n",
    "#     missing_mask = missing_raw_values < fraction_missing\n",
    "\n",
    "#     XY_incomplete = XY.copy()\n",
    "#     # fill missing entries with NaN\n",
    "#     XY_incomplete[missing_mask] = np.nan\n",
    "\n",
    "#     return XY, XY_incomplete, missing_mask\n",
    "\n",
    "# # create some default data to be shared across tests\n",
    "# XY, XY_incomplete, missing_mask = create_rank_k_dataset(\n",
    "#     n_rows=500,\n",
    "#     n_cols=10,\n",
    "#     k=3,\n",
    "#     fraction_missing=0.25)"
   ]
  },
  {
   "cell_type": "code",
   "execution_count": 21,
   "metadata": {},
   "outputs": [],
   "source": [
    "def create_correlated_dataset(cov_mat, mean_vec, n_obs = 2500):\n",
    "    \n",
    "    n_vars = cov_mat.shape[0]\n",
    "    cov_mat = cov_mat + 0.5 * np.eye(n_vars) # regularize for stability\n",
    "\n",
    "    try:\n",
    "        L = np.linalg.cholesky(cov_mat)\n",
    "        D = np.dot(L, np.random.uniform(0,1, (n_vars, n_obs)))\n",
    "        D = D*mean_vec.T # get the scaling right\n",
    "        return D\n",
    "    \n",
    "    except np.linalg.LinAlgError as err:\n",
    "        print('Error ---- Cholesksy')\n",
    "        return None\n",
    "        \n",
    "    "
   ]
  },
  {
   "cell_type": "code",
   "execution_count": 3,
   "metadata": {},
   "outputs": [
    {
     "name": "stdout",
     "output_type": "stream",
     "text": [
      "(4, 2500)\n"
     ]
    },
    {
     "data": {
      "text/plain": [
       "array([[1.        , 0.70122939, 0.69552579, 0.49341817],\n",
       "       [0.70122939, 1.        , 0.94805295, 0.28393164],\n",
       "       [0.69552579, 0.94805295, 1.        , 0.27078981],\n",
       "       [0.49341817, 0.28393164, 0.27078981, 1.        ]])"
      ]
     },
     "execution_count": 3,
     "metadata": {},
     "output_type": "execute_result"
    }
   ],
   "source": [
    "# test\n",
    "cov_mat = np.array([[1, 0.7, 0.7, 0.5,],\n",
    "             [0.7, 1, 0.95, 0.3],\n",
    "             [0.7, 0.95, 1, 0.3],\n",
    "             [0.5, 0.3, 0.3, 1]])\n",
    "mean_vec=np.array([200, 200, 200, 200], ndmin=2)\n",
    "D = create_correlated_dataset(cov_mat, mean_vec)\n",
    "print(D.shape)\n",
    "np.corrcoef(D)"
   ]
  },
  {
   "cell_type": "code",
   "execution_count": 5,
   "metadata": {},
   "outputs": [],
   "source": [
    "# Construct a cov matrix using a REAL dataset\n",
    "\n",
    "data_dir=\"/data/rmthomas/HeteroSmallSample\"\n",
    "df = pd.read_csv(os.path.join(data_dir, \"real_data.csv\"))\n",
    "df_numeric = df[df.columns[25:125]]\n",
    "\n",
    "# cov_mat_overall = df_numeric.corr().values\n",
    "# alpha = 0.2\n",
    "# reg_cov_mat = cov_mat_overall + alpha*np.eye(100) # alpha makes the matrix well conditioned for Cholesky\n",
    "# D_overall = create_correlated_dataset(reg_cov_mat)\n",
    "# print(D_overall.shape)"
   ]
  },
  {
   "cell_type": "code",
   "execution_count": 6,
   "metadata": {},
   "outputs": [],
   "source": [
    "n_features = 100 \n",
    "g = df.groupby(['site', 'Dx', 'age_group'])[df.columns[25:25+n_features]]\n",
    "Groups = list(g.indices.keys())"
   ]
  },
  {
   "cell_type": "code",
   "execution_count": 7,
   "metadata": {},
   "outputs": [],
   "source": [
    "# Generate correlation matrices per set = (site, Dx, age_group)\n",
    "corrs_per_set = g.corr().values.reshape(-1, n_features, n_features)\n",
    "means_per_set = g.mean().values.reshape(-1, n_features)\n",
    "#corrs_per_set[np.where(np.isnan(corrs_per_set))] = 0.5"
   ]
  },
  {
   "cell_type": "code",
   "execution_count": 8,
   "metadata": {},
   "outputs": [],
   "source": [
    "feature_labels = [f'f{i}' for i in range(100)] # f1, f2 ...f100\n",
    "data_cols = ['site', 'Dx', 'Age_group'] + feature_labels"
   ]
  },
  {
   "cell_type": "code",
   "execution_count": 22,
   "metadata": {},
   "outputs": [
    {
     "name": "stdout",
     "output_type": "stream",
     "text": [
      "Error ---- Cholesksy\n",
      "Error ---- Cholesksy\n",
      "Error ---- Cholesksy\n",
      "Error ---- Cholesksy\n",
      "Error ---- Cholesksy\n",
      "Error ---- Cholesksy\n",
      "Error ---- Cholesksy\n",
      "Error ---- Cholesksy\n",
      "Error ---- Cholesksy\n",
      "Error ---- Cholesksy\n",
      "Error ---- Cholesksy\n",
      "Error ---- Cholesksy\n",
      "Error ---- Cholesksy\n",
      "Error ---- Cholesksy\n",
      "Error ---- Cholesksy\n",
      "Error ---- Cholesksy\n",
      "Error ---- Cholesksy\n",
      "Error ---- Cholesksy\n",
      "Error ---- Cholesksy\n",
      "Error ---- Cholesksy\n",
      "Error ---- Cholesksy\n",
      "Error ---- Cholesksy\n",
      "Error ---- Cholesksy\n",
      "Error ---- Cholesksy\n",
      "Error ---- Cholesksy\n",
      "Error ---- Cholesksy\n"
     ]
    }
   ],
   "source": [
    "sim_data_all = pd.DataFrame(columns=data_cols) # initialize a dataframe\n",
    "group_template = pd.DataFrame(columns=['site', 'Dx', 'Age_group']) # initialize a dataframe\n",
    "\n",
    "sim_data=[]\n",
    "\n",
    "min_subj = 20\n",
    "max_subj = 120\n",
    "for corr_i in range(corrs_per_set.shape[0]):\n",
    "    n_obs=np.random.choice(np.arange(min_subj, max_subj))\n",
    "    D = create_correlated_dataset(corrs_per_set[corr_i], means_per_set[corr_i].reshape(1,n_features), n_obs=n_obs)\n",
    "\n",
    "    if D is not None:\n",
    "        sim_data_group = pd.DataFrame([list(Groups[corr_i])], columns=['site', 'Dx', 'Age_group'])\n",
    "        sim_data_group = pd.concat([sim_data_group]*n_obs, ignore_index=True)\n",
    "        \n",
    "        sim_data_group_matrix = pd.DataFrame(D.T, columns=feature_labels)\n",
    "        df_group = pd.concat([sim_data_group, sim_data_group_matrix], axis=1, ignore_index=False)\n",
    "        sim_data_all = sim_data_all.append(df_group, ignore_index=True)\n",
    "        sim_data.append(D)"
   ]
  },
  {
   "cell_type": "code",
   "execution_count": 23,
   "metadata": {},
   "outputs": [
    {
     "data": {
      "text/plain": [
       "(3539, 103)"
      ]
     },
     "execution_count": 23,
     "metadata": {},
     "output_type": "execute_result"
    }
   ],
   "source": [
    "sim_data_all.shape"
   ]
  },
  {
   "cell_type": "code",
   "execution_count": 24,
   "metadata": {},
   "outputs": [
    {
     "data": {
      "text/plain": [
       "[array([ 9.55516852e+02,  2.84369960e+03,  3.80032262e+03,  1.52300732e+03,\n",
       "         6.51628186e+03,  8.62601560e+03,  4.43821990e+03,  6.61318020e+02,\n",
       "         1.97228524e+03,  5.04109614e+03,  5.56497297e+03,  2.24525309e+03,\n",
       "         8.67420149e+03,  1.09170656e+04,  1.30077227e+05,  1.32604490e+03,\n",
       "         7.72168105e+02,  3.30959867e+03,  1.84302243e+03,  4.95561525e+02,\n",
       "         2.42811656e+02,  5.26837208e+03,  8.06528744e+03,  5.78127715e+03,\n",
       "         3.74439074e+03,  1.60314644e+03,  8.34952123e+03,  4.73118773e+03,\n",
       "         4.83321276e+03,  3.23568792e+03,  6.01269349e+03,  2.10754468e+03,\n",
       "         1.16072919e+03,  2.73977626e+03,  1.14597437e+03,  2.24564370e+03,\n",
       "         2.03493827e+03,  8.40104533e+03,  2.13537636e+03,  9.96202595e+03,\n",
       "         8.17989486e+03,  1.61510954e+03,  1.26774243e+04,  1.61520624e+04,\n",
       "         1.12877845e+04,  8.13278001e+03,  8.11409382e+03,  7.52341391e+02,\n",
       "         8.40934720e+02,  2.33268614e+05,  1.78839079e+03,  1.27847011e+03,\n",
       "         4.19716956e+03,  3.16454638e+03,  4.55292238e+02,  4.39240796e+02,\n",
       "         7.14871319e+03,  1.25018476e+04,  7.03642770e+03,  4.65512000e+03,\n",
       "         1.90258661e+03,  1.00031206e+04,  5.70413608e+03,  6.15500121e+03,\n",
       "         4.16183607e+03,  8.23899998e+03,  2.79798017e+03,  1.35437293e+03,\n",
       "         2.67078714e+03,  1.62629548e+03,  3.08106938e+03,  2.87310383e+03,\n",
       "         9.69285344e+03,  2.72226554e+03,  1.15420398e+04,  9.62771202e+03,\n",
       "         1.32168181e+03,  1.44662656e+04,  1.75668393e+04,  1.28998731e+04,\n",
       "         8.94816302e+03,  8.39098336e+03,  6.37314491e+02,  6.50794025e+02,\n",
       "         2.91372868e-02,  9.90428380e-01, -2.88629767e-01,  9.34080943e-01,\n",
       "         9.71976319e-01,  1.13186693e+00,  5.46742364e-01,  1.35547372e+00,\n",
       "         1.12079794e+00,  1.76640144e+00,  2.28792120e+00,  1.16901810e+00,\n",
       "         1.35074920e+00,  1.48315004e+00,  1.72181316e+00,  1.44705079e+00]),\n",
       " array([1.56012177e+03, 3.74339947e+03, 4.24876388e+03, 1.60682119e+03,\n",
       "        5.83181948e+03, 7.94735520e+03, 6.07851601e+03, 6.14649585e+02,\n",
       "        1.64741114e+03, 3.79278601e+03, 4.33262128e+03, 1.59768111e+03,\n",
       "        5.64914946e+03, 7.32613708e+03, 8.48732576e+04, 1.03846665e+03,\n",
       "        6.38001932e+02, 2.32004666e+03, 1.46175845e+03, 4.04456366e+02,\n",
       "        2.11954059e+02, 3.27936431e+03, 4.72735186e+03, 3.33696402e+03,\n",
       "        2.14761466e+03, 1.00877248e+03, 4.82362320e+03, 2.57959011e+03,\n",
       "        3.05522965e+03, 1.81330053e+03, 3.08811222e+03, 1.33563782e+03,\n",
       "        7.21324784e+02, 1.67122501e+03, 6.25391895e+02, 1.29392593e+03,\n",
       "        1.35246502e+03, 4.23394213e+03, 1.18186549e+03, 4.85345503e+03,\n",
       "        3.82644609e+03, 8.05232014e+02, 5.71354033e+03, 7.17764588e+03,\n",
       "        5.48025734e+03, 3.74338365e+03, 3.93545747e+03, 4.80041955e+02,\n",
       "        4.63590336e+02, 8.52443896e+04, 9.56627541e+02, 7.64960827e+02,\n",
       "        2.14259334e+03, 1.51880478e+03, 3.44142322e+02, 2.87086346e+02,\n",
       "        3.18447916e+03, 5.54875282e+03, 3.18267871e+03, 2.19146076e+03,\n",
       "        9.50822408e+02, 4.68387767e+03, 2.55923092e+03, 3.06351915e+03,\n",
       "        1.78791244e+03, 3.41868109e+03, 1.52154130e+03, 6.91019923e+02,\n",
       "        1.40091158e+03, 7.70808187e+02, 1.50208612e+03, 1.48958620e+03,\n",
       "        4.07055867e+03, 1.21157027e+03, 4.88358706e+03, 3.99548832e+03,\n",
       "        6.62519189e+02, 5.90694866e+03, 6.94169773e+03, 5.47246180e+03,\n",
       "        3.58327681e+03, 3.74020046e+03, 4.21498198e+02, 3.46857584e+02,\n",
       "        2.49599496e+00, 2.49762085e+00, 2.73348829e+00, 2.55705049e+00,\n",
       "        1.86672374e+00, 3.25047780e+00, 2.88154225e+00, 2.70127880e+00,\n",
       "        2.45520863e+00, 2.78733131e+00, 3.08400750e+00, 2.55618221e+00,\n",
       "        2.17439625e+00, 2.68975511e+00, 2.03651241e+00, 2.50536789e+00])]"
      ]
     },
     "execution_count": 24,
     "metadata": {},
     "output_type": "execute_result"
    }
   ],
   "source": [
    "[sim_data_all.mean().values, df_numeric.mean().values]"
   ]
  },
  {
   "cell_type": "code",
   "execution_count": 25,
   "metadata": {},
   "outputs": [],
   "source": [
    "# Write it to file\n",
    "sim_data_all.to_csv('simulated_data.csv')"
   ]
  },
  {
   "cell_type": "code",
   "execution_count": null,
   "metadata": {},
   "outputs": [],
   "source": [
    "all_data = np.hstack(sim_data)\n",
    "nvars, nsubjs = all_data.shape"
   ]
  },
  {
   "cell_type": "code",
   "execution_count": null,
   "metadata": {},
   "outputs": [],
   "source": [
    "# Create data for each group\n",
    "D_patients = create_correlated_dataset(cov_patients)\n",
    "D_controls = create_correlated_dataset(cov_controls)"
   ]
  },
  {
   "cell_type": "code",
   "execution_count": null,
   "metadata": {},
   "outputs": [],
   "source": [
    "\n"
   ]
  },
  {
   "cell_type": "code",
   "execution_count": null,
   "metadata": {},
   "outputs": [],
   "source": [
    "from fancyimpute import MICE"
   ]
  },
  {
   "cell_type": "code",
   "execution_count": null,
   "metadata": {},
   "outputs": [],
   "source": [
    "# https://www.kaggle.com/athi94/investigating-imputation-methods"
   ]
  },
  {
   "cell_type": "code",
   "execution_count": null,
   "metadata": {},
   "outputs": [],
   "source": []
  }
 ],
 "metadata": {
  "kernelspec": {
   "display_name": "Python 3",
   "language": "python",
   "name": "python3"
  },
  "language_info": {
   "codemirror_mode": {
    "name": "ipython",
    "version": 3
   },
   "file_extension": ".py",
   "mimetype": "text/x-python",
   "name": "python",
   "nbconvert_exporter": "python",
   "pygments_lexer": "ipython3",
   "version": "3.6.6"
  }
 },
 "nbformat": 4,
 "nbformat_minor": 2
}
