{
 "cells": [
  {
   "cell_type": "code",
   "execution_count": 3,
   "metadata": {},
   "outputs": [],
   "source": [
    "import numpy as np\n",
    "import scipy as sp\n",
    "import pandas as pd\n",
    "import os \n",
    "from itertools import product\n",
    "\n",
    "import warnings\n",
    "\n",
    "#from modshogun import *\n",
    "\n",
    "from sklearn import linear_model, decomposition\n",
    "from sklearn.svm import SVC\n",
    "from sklearn.ensemble import RandomForestClassifier\n",
    "from sklearn.model_selection import GridSearchCV, GroupKFold, LeaveOneGroupOut\n",
    "from sklearn.externals.joblib import Parallel, delayed\n",
    "from sklearn.preprocessing import RobustScaler, LabelEncoder, StandardScaler, Imputer, MinMaxScaler\n",
    "from sklearn.pipeline import Pipeline\n",
    "\n",
    "from CustomCVs import KFoldMixedSizes, StratifiedKFoldMixedSizes, StratifiedKFoldByGroups\n",
    "#from evaluation_classifier import Evaluater\n",
    "\n",
    "from time import time\n",
    "from IPython.display import clear_output\n",
    "\n",
    "#from fancyimpute import BiScaler, KNN, NuclearNormMinimization, SoftImpute, IterativeSVD #, MICE\n",
    "\n",
    "from six.moves import cPickle as pickle\n",
    "\n",
    "import matplotlib.pyplot as plt"
   ]
  },
  {
   "cell_type": "code",
   "execution_count": null,
   "metadata": {},
   "outputs": [],
   "source": [
    "def create_rank_k_dataset(\n",
    "        n_rows=5,\n",
    "        n_cols=5,\n",
    "        k=3,\n",
    "        fraction_missing=0.1,\n",
    "        symmetric=False,\n",
    "        random_seed=0):\n",
    "    np.random.seed(random_seed)\n",
    "    x = np.random.randn(n_rows, k)\n",
    "    y = np.random.randn(k, n_cols)\n",
    "\n",
    "    XY = np.dot(x, y)\n",
    "\n",
    "    if symmetric:\n",
    "        assert n_rows == n_cols\n",
    "        XY = 0.5 * XY + 0.5 * XY.T\n",
    "\n",
    "    missing_raw_values = np.random.uniform(0, 1, (n_rows, n_cols))\n",
    "    missing_mask = missing_raw_values < fraction_missing\n",
    "\n",
    "    XY_incomplete = XY.copy()\n",
    "    # fill missing entries with NaN\n",
    "    XY_incomplete[missing_mask] = np.nan\n",
    "\n",
    "    return XY, XY_incomplete, missing_mask"
   ]
  },
  {
   "cell_type": "code",
   "execution_count": null,
   "metadata": {},
   "outputs": [],
   "source": [
    "# create some default data to be shared across tests\n",
    "XY, XY_incomplete, missing_mask = create_rank_k_dataset(\n",
    "    n_rows=500,\n",
    "    n_cols=10,\n",
    "    k=3,\n",
    "    fraction_missing=0.25)"
   ]
  },
  {
   "cell_type": "code",
   "execution_count": 4,
   "metadata": {},
   "outputs": [],
   "source": [
    "def create_correlated_dataset(cov_mat, n_obs = 5000):\n",
    "    \n",
    "    n_vars = cov_mat.shape[0]\n",
    "    \n",
    "    L = np.linalg.cholesky(cov_mat)\n",
    "    D = np.dot(L, np.random.uniform(0,1, (n_vars, n_obs)))\n",
    "    \n",
    "    return D\n",
    "    "
   ]
  },
  {
   "cell_type": "code",
   "execution_count": 5,
   "metadata": {},
   "outputs": [
    {
     "name": "stdout",
     "output_type": "stream",
     "text": [
      "(4, 5000)\n"
     ]
    },
    {
     "data": {
      "text/plain": [
       "array([[1.        , 0.69646432, 0.69910663, 0.50894069],\n",
       "       [0.69646432, 1.        , 0.94887712, 0.30165075],\n",
       "       [0.69910663, 0.94887712, 1.        , 0.30366525],\n",
       "       [0.50894069, 0.30165075, 0.30366525, 1.        ]])"
      ]
     },
     "execution_count": 5,
     "metadata": {},
     "output_type": "execute_result"
    }
   ],
   "source": [
    "# test\n",
    "cov_mat = np.array([[1, 0.7, 0.7, 0.5,],\n",
    "             [0.7, 1, 0.95, 0.3],\n",
    "             [0.7, 0.95, 1, 0.3],\n",
    "             [0.5, 0.3, 0.3, 1]])\n",
    "\n",
    "D = create_correlated_dataset(cov_mat)\n",
    "print(D.shape)\n",
    "np.corrcoef(D)"
   ]
  },
  {
   "cell_type": "code",
   "execution_count": 7,
   "metadata": {},
   "outputs": [
    {
     "name": "stdout",
     "output_type": "stream",
     "text": [
      "(4, 5000)\n"
     ]
    }
   ],
   "source": [
    "# Construct a cov matrix using a REAL dataset\n",
    "\n",
    "data_dir=\"/data/rmthomas/HeteroSmallSample\"\n",
    "ENIGMA_OCD_df = pd.read_csv(os.path.join(data_dir, \"ENIGMA_OCD.csv\"))\n",
    "cov_mat_overall = ENIGMA_OCD_df.corr().values\n",
    "\n",
    "alpha = 0.2\n",
    "reg_cov_mat = cov_mat_overall + alpha*np.eye(175) # alpha makes the matrix well conditioned for Cholesky\n",
    "D_overall = create_correlated_dataset(reg_cov_mat)\n",
    "print(D.shape)"
   ]
  },
  {
   "cell_type": "code",
   "execution_count": 10,
   "metadata": {},
   "outputs": [
    {
     "data": {
      "text/plain": [
       "Index(['Unnamed: 0', 'age_group', 'tesla', 'site', 'AO', 'Age', 'AgeSQ',\n",
       "       'Agr_Check', 'Anx', 'Clean'],\n",
       "      dtype='object')"
      ]
     },
     "execution_count": 10,
     "metadata": {},
     "output_type": "execute_result"
    }
   ],
   "source": [
    "ENIGMA_OCD_df.columns[:10]"
   ]
  },
  {
   "cell_type": "code",
   "execution_count": 11,
   "metadata": {},
   "outputs": [
    {
     "data": {
      "text/plain": [
       "(4243, 180)"
      ]
     },
     "execution_count": 11,
     "metadata": {},
     "output_type": "execute_result"
    }
   ],
   "source": [
    "covariates_columns = [ENIGMA_OCD_df.columns.values[3], ENIGMA_OCD_df.columns.values[6]]\n",
    "ENIGMA_OCD_df[~ENIGMA_OCD_df.loc[:, covariates_columns].T.isnull().any()].shape"
   ]
  },
  {
   "cell_type": "code",
   "execution_count": 20,
   "metadata": {},
   "outputs": [
    {
     "data": {
      "text/html": [
       "<div>\n",
       "<style scoped>\n",
       "    .dataframe tbody tr th:only-of-type {\n",
       "        vertical-align: middle;\n",
       "    }\n",
       "\n",
       "    .dataframe tbody tr th {\n",
       "        vertical-align: top;\n",
       "    }\n",
       "\n",
       "    .dataframe thead th {\n",
       "        text-align: right;\n",
       "    }\n",
       "</style>\n",
       "<table border=\"1\" class=\"dataframe\">\n",
       "  <thead>\n",
       "    <tr style=\"text-align: right;\">\n",
       "      <th></th>\n",
       "      <th>0</th>\n",
       "      <th>1</th>\n",
       "      <th>2</th>\n",
       "      <th>3</th>\n",
       "      <th>4</th>\n",
       "      <th>5</th>\n",
       "      <th>6</th>\n",
       "      <th>7</th>\n",
       "      <th>8</th>\n",
       "      <th>9</th>\n",
       "      <th>...</th>\n",
       "      <th>4360</th>\n",
       "      <th>4361</th>\n",
       "      <th>4362</th>\n",
       "      <th>4363</th>\n",
       "      <th>4364</th>\n",
       "      <th>4365</th>\n",
       "      <th>4366</th>\n",
       "      <th>4367</th>\n",
       "      <th>4368</th>\n",
       "      <th>4369</th>\n",
       "    </tr>\n",
       "  </thead>\n",
       "  <tbody>\n",
       "    <tr>\n",
       "      <th>site</th>\n",
       "      <td>False</td>\n",
       "      <td>False</td>\n",
       "      <td>False</td>\n",
       "      <td>False</td>\n",
       "      <td>False</td>\n",
       "      <td>False</td>\n",
       "      <td>False</td>\n",
       "      <td>False</td>\n",
       "      <td>False</td>\n",
       "      <td>False</td>\n",
       "      <td>...</td>\n",
       "      <td>False</td>\n",
       "      <td>False</td>\n",
       "      <td>False</td>\n",
       "      <td>False</td>\n",
       "      <td>False</td>\n",
       "      <td>False</td>\n",
       "      <td>False</td>\n",
       "      <td>False</td>\n",
       "      <td>False</td>\n",
       "      <td>False</td>\n",
       "    </tr>\n",
       "    <tr>\n",
       "      <th>AgeSQ</th>\n",
       "      <td>False</td>\n",
       "      <td>False</td>\n",
       "      <td>False</td>\n",
       "      <td>False</td>\n",
       "      <td>False</td>\n",
       "      <td>False</td>\n",
       "      <td>False</td>\n",
       "      <td>False</td>\n",
       "      <td>False</td>\n",
       "      <td>False</td>\n",
       "      <td>...</td>\n",
       "      <td>False</td>\n",
       "      <td>False</td>\n",
       "      <td>False</td>\n",
       "      <td>False</td>\n",
       "      <td>False</td>\n",
       "      <td>False</td>\n",
       "      <td>False</td>\n",
       "      <td>False</td>\n",
       "      <td>False</td>\n",
       "      <td>False</td>\n",
       "    </tr>\n",
       "  </tbody>\n",
       "</table>\n",
       "<p>2 rows × 4370 columns</p>\n",
       "</div>"
      ],
      "text/plain": [
       "        0      1      2      3      4      5      6      7      8      9     \\\n",
       "site   False  False  False  False  False  False  False  False  False  False   \n",
       "AgeSQ  False  False  False  False  False  False  False  False  False  False   \n",
       "\n",
       "       ...     4360   4361   4362   4363   4364   4365   4366   4367   4368  \\\n",
       "site   ...    False  False  False  False  False  False  False  False  False   \n",
       "AgeSQ  ...    False  False  False  False  False  False  False  False  False   \n",
       "\n",
       "        4369  \n",
       "site   False  \n",
       "AgeSQ  False  \n",
       "\n",
       "[2 rows x 4370 columns]"
      ]
     },
     "execution_count": 20,
     "metadata": {},
     "output_type": "execute_result"
    }
   ],
   "source": [
    "ENIGMA_OCD_df.loc[:, covariates_columns].T.isnull()"
   ]
  },
  {
   "cell_type": "code",
   "execution_count": null,
   "metadata": {},
   "outputs": [],
   "source": [
    "ENIGMA_OCD_df.loc[:, covariates_columns].T"
   ]
  },
  {
   "cell_type": "code",
   "execution_count": 111,
   "metadata": {},
   "outputs": [],
   "source": [
    "x=ENIGMA_OCD_df.groupby(['site', 'age_group'])"
   ]
  },
  {
   "cell_type": "code",
   "execution_count": null,
   "metadata": {},
   "outputs": [],
   "source": []
  }
 ],
 "metadata": {
  "kernelspec": {
   "display_name": "Python 3",
   "language": "python",
   "name": "python3"
  },
  "language_info": {
   "codemirror_mode": {
    "name": "ipython",
    "version": 3
   },
   "file_extension": ".py",
   "mimetype": "text/x-python",
   "name": "python",
   "nbconvert_exporter": "python",
   "pygments_lexer": "ipython3",
   "version": "3.6.6"
  }
 },
 "nbformat": 4,
 "nbformat_minor": 2
}
